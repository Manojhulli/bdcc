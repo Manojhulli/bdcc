{
  "nbformat": 4,
  "nbformat_minor": 0,
  "metadata": {
    "colab": {
      "provenance": [],
      "authorship_tag": "ABX9TyPn/nrlafFe1Io7wxjW2K0T",
      "include_colab_link": true
    },
    "kernelspec": {
      "name": "python3",
      "display_name": "Python 3"
    },
    "language_info": {
      "name": "python"
    }
  },
  "cells": [
    {
      "cell_type": "markdown",
      "metadata": {
        "id": "view-in-github",
        "colab_type": "text"
      },
      "source": [
        "<a href=\"https://colab.research.google.com/github/Manojhulli/bdcc/blob/main/programs/program5.ipynb\" target=\"_parent\"><img src=\"https://colab.research.google.com/assets/colab-badge.svg\" alt=\"Open In Colab\"/></a>"
      ]
    },
    {
      "cell_type": "code",
      "execution_count": null,
      "metadata": {
        "colab": {
          "base_uri": "https://localhost:8080/"
        },
        "id": "OKBuqHqWkktg",
        "outputId": "2ccf032e-b416-4304-eafb-41d66b05670d"
      },
      "outputs": [
        {
          "output_type": "stream",
          "name": "stdout",
          "text": [
            "Looking in indexes: https://pypi.org/simple, https://us-python.pkg.dev/colab-wheels/public/simple/\n",
            "Collecting pySpark\n",
            "  Downloading pyspark-3.4.0.tar.gz (310.8 MB)\n",
            "\u001b[2K     \u001b[90m━━━━━━━━━━━━━━━━━━━━━━━━━━━━━━━━━━━━━━━\u001b[0m \u001b[32m310.8/310.8 MB\u001b[0m \u001b[31m4.1 MB/s\u001b[0m eta \u001b[36m0:00:00\u001b[0m\n",
            "\u001b[?25h  Preparing metadata (setup.py) ... \u001b[?25l\u001b[?25hdone\n",
            "Requirement already satisfied: py4j==0.10.9.7 in /usr/local/lib/python3.9/dist-packages (from pySpark) (0.10.9.7)\n",
            "Building wheels for collected packages: pySpark\n",
            "  Building wheel for pySpark (setup.py) ... \u001b[?25l\u001b[?25hdone\n",
            "  Created wheel for pySpark: filename=pyspark-3.4.0-py2.py3-none-any.whl size=311317145 sha256=4c77a378c2f592e8f4f636248e1c6af2b2dde8f024f654a5f29ee48ef8699ae4\n",
            "  Stored in directory: /root/.cache/pip/wheels/9f/34/a4/159aa12d0a510d5ff7c8f0220abbea42e5d81ecf588c4fd884\n",
            "Successfully built pySpark\n",
            "Installing collected packages: pySpark\n",
            "Successfully installed pySpark-3.4.0\n"
          ]
        }
      ],
      "source": [
        "pip install pySpark "
      ]
    },
    {
      "cell_type": "code",
      "source": [
        "from pyspark import SparkContext"
      ],
      "metadata": {
        "id": "AlWcBZ0Dkq_i"
      },
      "execution_count": null,
      "outputs": []
    },
    {
      "cell_type": "code",
      "source": [
        "sc=SparkContext()"
      ],
      "metadata": {
        "id": "l_dJ5Cddk1TK"
      },
      "execution_count": null,
      "outputs": []
    },
    {
      "cell_type": "code",
      "source": [
        "rdd=sc.parallelize([{1,2,3},{4,5,6},{7,8,9}])"
      ],
      "metadata": {
        "id": "ilx5d5yDlQ1D"
      },
      "execution_count": null,
      "outputs": []
    },
    {
      "cell_type": "code",
      "source": [
        "acc=sc.accumulator(0)"
      ],
      "metadata": {
        "id": "t46d4JZTlbHi"
      },
      "execution_count": null,
      "outputs": []
    },
    {
      "cell_type": "code",
      "source": [
        "def add_to_acc(x):\n",
        "  global acc\n",
        "  acc+=sum(x)"
      ],
      "metadata": {
        "id": "dybepWQqlfNK"
      },
      "execution_count": null,
      "outputs": []
    },
    {
      "cell_type": "code",
      "source": [
        "rdd.foreach(add_to_acc)"
      ],
      "metadata": {
        "id": "itH06Ut_ltjY"
      },
      "execution_count": null,
      "outputs": []
    },
    {
      "cell_type": "code",
      "source": [
        "print(\"sum of number in RDD:\",acc.value)"
      ],
      "metadata": {
        "colab": {
          "base_uri": "https://localhost:8080/"
        },
        "id": "cIQS_Dg3lzjo",
        "outputId": "c2f5dd56-0f11-40ec-bc58-30c156bfc760"
      },
      "execution_count": null,
      "outputs": [
        {
          "output_type": "stream",
          "name": "stdout",
          "text": [
            "sum of number in RDD: 45\n"
          ]
        }
      ]
    },
    {
      "cell_type": "code",
      "source": [
        "sc.stop()"
      ],
      "metadata": {
        "id": "BKVbGJoIl6cC"
      },
      "execution_count": null,
      "outputs": []
    }
  ]
}