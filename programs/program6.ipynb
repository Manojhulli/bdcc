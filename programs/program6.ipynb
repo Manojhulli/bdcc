{
  "nbformat": 4,
  "nbformat_minor": 0,
  "metadata": {
    "colab": {
      "provenance": [],
      "authorship_tag": "ABX9TyOUqyRegvQoVxnAIbxrxtfe",
      "include_colab_link": true
    },
    "kernelspec": {
      "name": "python3",
      "display_name": "Python 3"
    },
    "language_info": {
      "name": "python"
    }
  },
  "cells": [
    {
      "cell_type": "markdown",
      "metadata": {
        "id": "view-in-github",
        "colab_type": "text"
      },
      "source": [
        "<a href=\"https://colab.research.google.com/github/Manojhulli/bdcc/blob/main/programs/program6.ipynb\" target=\"_parent\"><img src=\"https://colab.research.google.com/assets/colab-badge.svg\" alt=\"Open In Colab\"/></a>"
      ]
    },
    {
      "cell_type": "code",
      "execution_count": 1,
      "metadata": {
        "colab": {
          "base_uri": "https://localhost:8080/"
        },
        "id": "nMH84-PloA9Y",
        "outputId": "c45469a5-b9aa-46e7-881c-b7031fcdfd01"
      },
      "outputs": [
        {
          "output_type": "stream",
          "name": "stdout",
          "text": [
            "Looking in indexes: https://pypi.org/simple, https://us-python.pkg.dev/colab-wheels/public/simple/\n",
            "Collecting spark\n",
            "  Downloading spark-0.2.1.tar.gz (41 kB)\n",
            "\u001b[2K     \u001b[90m━━━━━━━━━━━━━━━━━━━━━━━━━━━━━━━━━━━━━━━━\u001b[0m \u001b[32m41.0/41.0 kB\u001b[0m \u001b[31m1.2 MB/s\u001b[0m eta \u001b[36m0:00:00\u001b[0m\n",
            "\u001b[?25h  Preparing metadata (setup.py) ... \u001b[?25l\u001b[?25hdone\n",
            "Building wheels for collected packages: spark\n",
            "  Building wheel for spark (setup.py) ... \u001b[?25l\u001b[?25hdone\n",
            "  Created wheel for spark: filename=spark-0.2.1-py3-none-any.whl size=58760 sha256=3f2e0755de8fc0b3181c7acdb3705f84dcb8a4eb5a2fbadfec9dd7302d00fcc2\n",
            "  Stored in directory: /root/.cache/pip/wheels/bc/0f/6c/b41528ca0fd4d46513185e90da91bc1c484bba6138641c5a62\n",
            "Successfully built spark\n",
            "Installing collected packages: spark\n",
            "Successfully installed spark-0.2.1\n"
          ]
        }
      ],
      "source": [
        "pip install spark"
      ]
    },
    {
      "cell_type": "code",
      "source": [
        "pip install pyspark"
      ],
      "metadata": {
        "colab": {
          "base_uri": "https://localhost:8080/"
        },
        "id": "A1ANNen-o6la",
        "outputId": "e28a4c26-f0af-4424-b5ff-a8cb4ac5a160"
      },
      "execution_count": 2,
      "outputs": [
        {
          "output_type": "stream",
          "name": "stdout",
          "text": [
            "Looking in indexes: https://pypi.org/simple, https://us-python.pkg.dev/colab-wheels/public/simple/\n",
            "Collecting pyspark\n",
            "  Downloading pyspark-3.4.0.tar.gz (310.8 MB)\n",
            "\u001b[2K     \u001b[90m━━━━━━━━━━━━━━━━━━━━━━━━━━━━━━━━━━━━━━━\u001b[0m \u001b[32m310.8/310.8 MB\u001b[0m \u001b[31m3.2 MB/s\u001b[0m eta \u001b[36m0:00:00\u001b[0m\n",
            "\u001b[?25h  Preparing metadata (setup.py) ... \u001b[?25l\u001b[?25hdone\n",
            "Requirement already satisfied: py4j==0.10.9.7 in /usr/local/lib/python3.9/dist-packages (from pyspark) (0.10.9.7)\n",
            "Building wheels for collected packages: pyspark\n",
            "  Building wheel for pyspark (setup.py) ... \u001b[?25l\u001b[?25hdone\n",
            "  Created wheel for pyspark: filename=pyspark-3.4.0-py2.py3-none-any.whl size=311317145 sha256=c08c77f867d177e262a3307bc3f862f300b3e860be3725886a0230f1c7c4a29e\n",
            "  Stored in directory: /root/.cache/pip/wheels/9f/34/a4/159aa12d0a510d5ff7c8f0220abbea42e5d81ecf588c4fd884\n",
            "Successfully built pyspark\n",
            "Installing collected packages: pyspark\n",
            "Successfully installed pyspark-3.4.0\n"
          ]
        }
      ]
    },
    {
      "cell_type": "code",
      "source": [
        "from pyspark.sql import SparkSession"
      ],
      "metadata": {
        "id": "LtmNSr4DpEb5"
      },
      "execution_count": 3,
      "outputs": []
    },
    {
      "cell_type": "code",
      "source": [
        "spark = SparkSession.builder.appName(\"CSV RDD\").getOrCreate()"
      ],
      "metadata": {
        "id": "fn6AxN-gq-lq"
      },
      "execution_count": 4,
      "outputs": []
    },
    {
      "cell_type": "code",
      "source": [
        "rdd=spark.read.format(\"csv\").option(\"header\",\"true\").load(\"/content/data.csv\").rdd"
      ],
      "metadata": {
        "id": "KPNhLNWZrVfJ"
      },
      "execution_count": 7,
      "outputs": []
    },
    {
      "cell_type": "code",
      "source": [
        "print(rdd.take(5))"
      ],
      "metadata": {
        "colab": {
          "base_uri": "https://localhost:8080/"
        },
        "id": "kusgCgO-ruU4",
        "outputId": "eef98b09-ee27-4d7c-cbb0-ad81272d09f3"
      },
      "execution_count": 8,
      "outputs": [
        {
          "output_type": "stream",
          "name": "stdout",
          "text": [
            "[Row(airline_sentiment='neutral', text='@VirginAmerica What @dhepburn said.'), Row(airline_sentiment='positive', text=\"@VirginAmerica plus you've added commercials to the experience... tacky.\"), Row(airline_sentiment='neutral', text=\"@VirginAmerica I didn't today... Must mean I need to take another trip!\"), Row(airline_sentiment='negative', text='\"@VirginAmerica it\\'s really aggressive to blast obnoxious \"\"entertainment\"\" in your guests\\' faces &amp; they have little recourse\"'), Row(airline_sentiment='negative', text=\"@VirginAmerica and it's a really big bad thing about it\")]\n"
          ]
        }
      ]
    },
    {
      "cell_type": "code",
      "source": [
        "df=rdd.toDF()"
      ],
      "metadata": {
        "id": "ZtKftrWWrz_x"
      },
      "execution_count": 9,
      "outputs": []
    },
    {
      "cell_type": "code",
      "source": [
        "df.describe().show()"
      ],
      "metadata": {
        "colab": {
          "base_uri": "https://localhost:8080/"
        },
        "id": "oWElKiZrr6NZ",
        "outputId": "ce58dee2-90fd-4a5b-c048-ba2b9e127fc3"
      },
      "execution_count": 10,
      "outputs": [
        {
          "output_type": "stream",
          "name": "stdout",
          "text": [
            "+-------+-----------------+--------------------+\n",
            "|summary|airline_sentiment|                text|\n",
            "+-------+-----------------+--------------------+\n",
            "|  count|            14810|               14666|\n",
            "|   mean|             null|                null|\n",
            "| stddev|             null|                null|\n",
            "|    min|           #damn\"|                    |\n",
            "|    max|    ðŸ”µðŸ”µðŸ”µ\"|ðŸ’¯ðŸ’¯ðŸ’¯ RT @...|\n",
            "+-------+-----------------+--------------------+\n",
            "\n"
          ]
        }
      ]
    }
  ]
}