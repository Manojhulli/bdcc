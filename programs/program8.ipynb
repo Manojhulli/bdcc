{
  "nbformat": 4,
  "nbformat_minor": 0,
  "metadata": {
    "colab": {
      "provenance": [],
      "authorship_tag": "ABX9TyNZqypNi9NVvywhphF6S0Y7",
      "include_colab_link": true
    },
    "kernelspec": {
      "name": "python3",
      "display_name": "Python 3"
    },
    "language_info": {
      "name": "python"
    }
  },
  "cells": [
    {
      "cell_type": "markdown",
      "metadata": {
        "id": "view-in-github",
        "colab_type": "text"
      },
      "source": [
        "<a href=\"https://colab.research.google.com/github/Manojhulli/bdcc/blob/main/programs/program8.ipynb\" target=\"_parent\"><img src=\"https://colab.research.google.com/assets/colab-badge.svg\" alt=\"Open In Colab\"/></a>"
      ]
    },
    {
      "cell_type": "code",
      "execution_count": 1,
      "metadata": {
        "colab": {
          "base_uri": "https://localhost:8080/"
        },
        "id": "TQx43P4ux4fz",
        "outputId": "2132267b-8ef2-44ec-b979-879148987570"
      },
      "outputs": [
        {
          "output_type": "stream",
          "name": "stdout",
          "text": [
            "Looking in indexes: https://pypi.org/simple, https://us-python.pkg.dev/colab-wheels/public/simple/\n",
            "Collecting pyspark\n",
            "  Downloading pyspark-3.4.0.tar.gz (310.8 MB)\n",
            "\u001b[2K     \u001b[90m━━━━━━━━━━━━━━━━━━━━━━━━━━━━━━━━━━━━━━━\u001b[0m \u001b[32m310.8/310.8 MB\u001b[0m \u001b[31m3.8 MB/s\u001b[0m eta \u001b[36m0:00:00\u001b[0m\n",
            "\u001b[?25h  Preparing metadata (setup.py) ... \u001b[?25l\u001b[?25hdone\n",
            "Requirement already satisfied: py4j==0.10.9.7 in /usr/local/lib/python3.10/dist-packages (from pyspark) (0.10.9.7)\n",
            "Building wheels for collected packages: pyspark\n",
            "  Building wheel for pyspark (setup.py) ... \u001b[?25l\u001b[?25hdone\n",
            "  Created wheel for pyspark: filename=pyspark-3.4.0-py2.py3-none-any.whl size=311317130 sha256=f9bea1151f610ee7e7328fb7264abe0cf133a9f6a9930b3d89f10357d77abb22\n",
            "  Stored in directory: /root/.cache/pip/wheels/7b/1b/4b/3363a1d04368e7ff0d408e57ff57966fcdf00583774e761327\n",
            "Successfully built pyspark\n",
            "Installing collected packages: pyspark\n",
            "Successfully installed pyspark-3.4.0\n"
          ]
        }
      ],
      "source": [
        " pip install pyspark"
      ]
    },
    {
      "cell_type": "code",
      "source": [
        "from pyspark.sql import SparkSession\n",
        "from pyspark.sql.functions import col,sum,avg,max"
      ],
      "metadata": {
        "id": "eDItzVYZzzrQ"
      },
      "execution_count": 2,
      "outputs": []
    },
    {
      "cell_type": "code",
      "source": [
        "spark = SparkSession.builder.appName('SparkByExamples.com').getOrCreate()\n"
      ],
      "metadata": {
        "id": "WExcJiTczr-5"
      },
      "execution_count": 3,
      "outputs": []
    },
    {
      "cell_type": "code",
      "source": [
        "Data = [(\"James\",\"Sales\",\"NY\",90000,34,10000),(\"Michael\",\"Sales\",\"NV\",86000,56,20000),(\"Robert\",\"Sales\",\"CA\",81000,30,23000),(\"Maria\",\"Finance\",\"CA\",90000,24,23000),(\"Raman\",\"Finance\",\"DE\",99000,40,24000),(\"Scott\",\"Finance\",\"NY\",83000,36,19000),(\"Jen\",\"Finance\",\"NY\",79000,53,15000),(\"Jeff\",\"Marketing\",\"NV\",80000,25,18000),(\"Kumar\",\"Marketing\",\"NJ\",91000,50,21000)]"
      ],
      "metadata": {
        "id": "-LeAB3PQzy5w"
      },
      "execution_count": 4,
      "outputs": []
    },
    {
      "cell_type": "code",
      "source": [
        "schema = [\"employee_name\",\"department\",\"state\",\"salary\",\"age\",\"bonus\"]"
      ],
      "metadata": {
        "id": "8YVQ3fZv0bD3"
      },
      "execution_count": 5,
      "outputs": []
    },
    {
      "cell_type": "code",
      "source": [
        "df = spark.createDataFrame(data=Data, schema = schema)\n",
        "df.printSchema()\n",
        "df.show(truncate=False)"
      ],
      "metadata": {
        "colab": {
          "base_uri": "https://localhost:8080/"
        },
        "id": "G-v5NRP_1sU4",
        "outputId": "2507e48c-2a5c-4cc5-a30d-56822a151062"
      },
      "execution_count": 6,
      "outputs": [
        {
          "output_type": "stream",
          "name": "stdout",
          "text": [
            "root\n",
            " |-- employee_name: string (nullable = true)\n",
            " |-- department: string (nullable = true)\n",
            " |-- state: string (nullable = true)\n",
            " |-- salary: long (nullable = true)\n",
            " |-- age: long (nullable = true)\n",
            " |-- bonus: long (nullable = true)\n",
            "\n",
            "+-------------+----------+-----+------+---+-----+\n",
            "|employee_name|department|state|salary|age|bonus|\n",
            "+-------------+----------+-----+------+---+-----+\n",
            "|James        |Sales     |NY   |90000 |34 |10000|\n",
            "|Michael      |Sales     |NV   |86000 |56 |20000|\n",
            "|Robert       |Sales     |CA   |81000 |30 |23000|\n",
            "|Maria        |Finance   |CA   |90000 |24 |23000|\n",
            "|Raman        |Finance   |DE   |99000 |40 |24000|\n",
            "|Scott        |Finance   |NY   |83000 |36 |19000|\n",
            "|Jen          |Finance   |NY   |79000 |53 |15000|\n",
            "|Jeff         |Marketing |NV   |80000 |25 |18000|\n",
            "|Kumar        |Marketing |NJ   |91000 |50 |21000|\n",
            "+-------------+----------+-----+------+---+-----+\n",
            "\n"
          ]
        }
      ]
    },
    {
      "cell_type": "code",
      "source": [
        "df.groupBy(\"state\").sum(\"salary\").show()"
      ],
      "metadata": {
        "colab": {
          "base_uri": "https://localhost:8080/"
        },
        "id": "KNaj8Ime1sdo",
        "outputId": "55ee7c87-8be5-4306-9a3a-a0515574209f"
      },
      "execution_count": 7,
      "outputs": [
        {
          "output_type": "stream",
          "name": "stdout",
          "text": [
            "+-----+-----------+\n",
            "|state|sum(salary)|\n",
            "+-----+-----------+\n",
            "|   NV|     166000|\n",
            "|   CA|     171000|\n",
            "|   NY|     252000|\n",
            "|   NJ|      91000|\n",
            "|   DE|      99000|\n",
            "+-----+-----------+\n",
            "\n"
          ]
        }
      ]
    },
    {
      "cell_type": "code",
      "source": [
        "df.groupBy(\"state\").sum(\"salary\").filter(\"sum(salary) > 100000\").show()"
      ],
      "metadata": {
        "colab": {
          "base_uri": "https://localhost:8080/"
        },
        "id": "4hxOiHeK2CPH",
        "outputId": "772a7151-52d9-4bf8-e51a-57b230a1d7ce"
      },
      "execution_count": 8,
      "outputs": [
        {
          "output_type": "stream",
          "name": "stdout",
          "text": [
            "+-----+-----------+\n",
            "|state|sum(salary)|\n",
            "+-----+-----------+\n",
            "|   NV|     166000|\n",
            "|   CA|     171000|\n",
            "|   NY|     252000|\n",
            "+-----+-----------+\n",
            "\n"
          ]
        }
      ]
    },
    {
      "cell_type": "code",
      "source": [
        "df.groupBy(\"state\").sum(\"salary\").orderBy(\"sum(salary)\", ascending=False).show()"
      ],
      "metadata": {
        "colab": {
          "base_uri": "https://localhost:8080/"
        },
        "id": "mRYZNOIt2GOI",
        "outputId": "ba3b39cc-1d5d-4930-bed5-ff201fb8e8c5"
      },
      "execution_count": 9,
      "outputs": [
        {
          "output_type": "stream",
          "name": "stdout",
          "text": [
            "+-----+-----------+\n",
            "|state|sum(salary)|\n",
            "+-----+-----------+\n",
            "|   NY|     252000|\n",
            "|   CA|     171000|\n",
            "|   NV|     166000|\n",
            "|   DE|      99000|\n",
            "|   NJ|      91000|\n",
            "+-----+-----------+\n",
            "\n"
          ]
        }
      ]
    }
  ]
}